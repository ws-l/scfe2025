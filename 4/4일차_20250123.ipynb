{
  "nbformat": 4,
  "nbformat_minor": 0,
  "metadata": {
    "colab": {
      "provenance": []
    },
    "kernelspec": {
      "name": "python3",
      "display_name": "Python 3"
    },
    "language_info": {
      "name": "python"
    }
  },
  "cells": [
    {
      "cell_type": "code",
      "execution_count": null,
      "metadata": {
        "id": "R56PyyvSuoI9"
      },
      "outputs": [],
      "source": [
        "#creditset2.csv, dt, rf, gb\n",
        "import pandas as pd        #\n",
        "from sklearn.model_selection import train_test_split\n",
        "df1 = pd.read_csv(\"creditset2.csv\")\n",
        "target = \"default10yr\"\n",
        "y = df1[target]\n",
        "X = df1.drop(target, axis=1) #X = df1[[\"loan\", \"income\", \"age\"]]"
      ]
    },
    {
      "cell_type": "code",
      "source": [
        "X_train, X_test, y_train, y_test = train_test_split( X, y, train_size=0.8,\n",
        "                                                     random_state=123,stratify=y)"
      ],
      "metadata": {
        "id": "R2QIkDVtz2bH"
      },
      "execution_count": null,
      "outputs": []
    },
    {
      "cell_type": "code",
      "source": [
        "from sklearn.tree import DecisionTreeClassifier, plot_tree\n",
        "from sklearn.ensemble import RandomForestClassifier, GradientBoostingClassifier\n",
        "model1 = DecisionTreeClassifier()\n",
        "model1.fit( X_train, y_train    )\n",
        "model2 = RandomForestClassifier() #DecisionTreeClassifier(max_depth=5)\n",
        "model2.fit( X_train, y_train    )\n",
        "model3 = GradientBoostingClassifier() #DecisionTreeClassifier(max_depth=5)\n",
        "model3.fit( X_train, y_train    )\n",
        "\n",
        "#plot_tree(model)\n",
        "from sklearn.metrics import classification_report\n",
        "#print( classification_report( y_train, model.predict( X_train )))\n",
        "print( classification_report( y_test, model1.predict( X_test )))\n",
        "print( classification_report( y_test, model2.predict( X_test )))\n",
        "print( classification_report( y_test, model3.predict( X_test )))"
      ],
      "metadata": {
        "colab": {
          "base_uri": "https://localhost:8080/"
        },
        "id": "D6q1W_G81vM7",
        "outputId": "31513632-1a6c-47ee-d5dc-13c1f5eb27a6"
      },
      "execution_count": null,
      "outputs": [
        {
          "output_type": "stream",
          "name": "stdout",
          "text": [
            "              precision    recall  f1-score   support\n",
            "\n",
            "           0       0.99      1.00      0.99       343\n",
            "           1       1.00      0.93      0.96        57\n",
            "\n",
            "    accuracy                           0.99       400\n",
            "   macro avg       0.99      0.96      0.98       400\n",
            "weighted avg       0.99      0.99      0.99       400\n",
            "\n",
            "              precision    recall  f1-score   support\n",
            "\n",
            "           0       0.99      1.00      0.99       343\n",
            "           1       1.00      0.91      0.95        57\n",
            "\n",
            "    accuracy                           0.99       400\n",
            "   macro avg       0.99      0.96      0.97       400\n",
            "weighted avg       0.99      0.99      0.99       400\n",
            "\n",
            "              precision    recall  f1-score   support\n",
            "\n",
            "           0       0.99      1.00      0.99       343\n",
            "           1       0.98      0.95      0.96        57\n",
            "\n",
            "    accuracy                           0.99       400\n",
            "   macro avg       0.99      0.97      0.98       400\n",
            "weighted avg       0.99      0.99      0.99       400\n",
            "\n"
          ]
        }
      ]
    },
    {
      "cell_type": "code",
      "source": [
        "#mortDefault.zip 파일을 압축을 해제해서, 2009년도 mortage 파일을 읽으세요\n",
        "df1 = df.sample( 50000 )  #전체 데이터프레임에서 50000개 랜덤하게 샘플링\n",
        "#year 컬럼을 삭제하고, default를 y로 하여 분류모형을 적용해보세요\n",
        "#dt, rf, gb\n",
        "\n",
        "\n",
        "#삼성전자, 하이닉스의 베타를 비교해보세요.\n",
        "\n"
      ],
      "metadata": {
        "id": "SAMEcmSlRp83"
      },
      "execution_count": null,
      "outputs": []
    }
  ]
}