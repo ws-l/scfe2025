{
  "nbformat": 4,
  "nbformat_minor": 0,
  "metadata": {
    "colab": {
      "provenance": []
    },
    "kernelspec": {
      "name": "python3",
      "display_name": "Python 3"
    },
    "language_info": {
      "name": "python"
    }
  },
  "cells": [
    {
      "cell_type": "markdown",
      "source": [
        "###1. pykrx 또는 야후파이낸스에서 원하는 주식의 데이터를 다운로드한 후, arima 등 시계열 모델링 해보세요"
      ],
      "metadata": {
        "id": "GlR-Y2XNYxn6"
      }
    },
    {
      "cell_type": "code",
      "source": [
        "!pip install pmdarima\n",
        "from pmdarima.arima import auto_arima"
      ],
      "metadata": {
        "id": "vxeQeaaDFfDh"
      },
      "execution_count": null,
      "outputs": []
    },
    {
      "cell_type": "code",
      "source": [
        "model = auto_arima(df['Close'], seasonal=False, trace=True)\n",
        "print(model.summary())"
      ],
      "metadata": {
        "id": "azrWVKrYFPhW"
      },
      "execution_count": null,
      "outputs": []
    },
    {
      "cell_type": "markdown",
      "source": [
        "###2. pykrx를 통해서 어제 시장의 주가를 수집한 후, nlargest를 이용해서 거래량 상위 10개를 찾으세요. 10개 종목과 원하는 주식의 조합으로 포트폴리오를 구성할 때, 각 종목의 비중을 구해보세요."
      ],
      "metadata": {
        "id": "BqmD78LZFb1p"
      }
    },
    {
      "cell_type": "code",
      "source": [],
      "metadata": {
        "id": "QrTHONCSGlmC"
      },
      "execution_count": null,
      "outputs": []
    },
    {
      "cell_type": "code",
      "source": [],
      "metadata": {
        "id": "dIl71AnMGlJ4"
      },
      "execution_count": null,
      "outputs": []
    },
    {
      "cell_type": "markdown",
      "source": [
        "### 3. pykrx를 이용해서, 어제의 시장의 모든 종목에 대한 OHLCV와 fundamental 값을 다운로드하고, 다음 기능을 이용해 두 데이터프레임을 join시키세요. 이후에 수정 종가를 타겟으로, fundamental값으로 회귀분석하세요. 이때 파티셔닝은 전체 기간을 순차적으로 8:2로 하세요(random이 아닌)\n",
        " - 예: 1년치 데이터, train:1월에서 10월, test: 11월에서 12월"
      ],
      "metadata": {
        "id": "mGkTa0NYZLfO"
      }
    },
    {
      "cell_type": "code",
      "source": [
        "!pip install pykrx"
      ],
      "metadata": {
        "id": "1jNshCiSaACP"
      },
      "execution_count": null,
      "outputs": []
    },
    {
      "cell_type": "code",
      "source": [
        "from pykrx import stock\n",
        "ohlcv = stock.get_market_ohlcv(\"20240703\")\n",
        "fundamental = stock.get_market_fundamental(\"20240703\")"
      ],
      "metadata": {
        "id": "DE-WVYImaCN6"
      },
      "execution_count": null,
      "outputs": []
    },
    {
      "cell_type": "code",
      "source": [
        "ohlcv.join(fundamental) #index로 join됨"
      ],
      "metadata": {
        "id": "sj1ngT46aTTN"
      },
      "execution_count": null,
      "outputs": []
    },
    {
      "cell_type": "markdown",
      "source": [
        "###4.  3의 데이터에 대해 군집분석하시고, 해석해보세요"
      ],
      "metadata": {
        "id": "8VaeMmVUZmlR"
      }
    },
    {
      "cell_type": "code",
      "source": [],
      "metadata": {
        "id": "ZdMfchHqGkDd"
      },
      "execution_count": null,
      "outputs": []
    },
    {
      "cell_type": "markdown",
      "source": [
        "###5. 3의 데이터에 대해서 등락률이 0보다 큰지 작은지를 컬럼으로 추가하고 타겟으로 고려하여 분류 모형을 만들어보세요. 이때, 파티셔닝은 랜덤하게 8:2로 하세요. DT, RF 모형의 성능을 비교해보세요."
      ],
      "metadata": {
        "id": "ee1piiKNZmn2"
      }
    },
    {
      "cell_type": "code",
      "source": [],
      "metadata": {
        "id": "hCLIF1xpGjpt"
      },
      "execution_count": null,
      "outputs": []
    },
    {
      "cell_type": "markdown",
      "source": [
        "###6. mort default 2007년 데이터에서 10%를 샘플링해서 RF로 분류 모형을 만들어 성능을 평가해보세요. 2008년에 대해 예측해보고 성능을 측정하세요. 2007년과 2008년 데이터를 각각 10%씩 샘플링하여, 모델링하고, 2009년 데이터에 적용하여 성능을 측정하세요."
      ],
      "metadata": {
        "id": "LXYtzX92HJmr"
      }
    },
    {
      "cell_type": "code",
      "source": [],
      "metadata": {
        "id": "2LWXb7SUGjFp"
      },
      "execution_count": null,
      "outputs": []
    },
    {
      "cell_type": "markdown",
      "source": [
        "###7. data.csv를 읽어서 pass.fail 컬럼을 타겟으로 분류 모델링하세요. 파티셔닝 등 적용하여 성능을 파악해보세요."
      ],
      "metadata": {
        "id": "A7D3zwkIl1Zq"
      }
    },
    {
      "cell_type": "code",
      "source": [],
      "metadata": {
        "id": "AXfqP1Tol0Tk"
      },
      "execution_count": null,
      "outputs": []
    }
  ]
}